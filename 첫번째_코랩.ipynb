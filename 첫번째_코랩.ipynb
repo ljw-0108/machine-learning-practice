{
  "nbformat": 4,
  "nbformat_minor": 0,
  "metadata": {
    "colab": {
      "provenance": [],
      "name": "첫번째 코랩.ipynb",
      "mount_file_id": "1pqfJiJLzwzv40RRDW8HeguQ5QvB186TK",
      "authorship_tag": "ABX9TyMKxNHElMgGn2kykvdbnW9l",
      "include_colab_link": true
    },
    "kernelspec": {
      "name": "python3",
      "display_name": "Python 3"
    },
    "language_info": {
      "name": "python"
    }
  },
  "cells": [
    {
      "cell_type": "markdown",
      "metadata": {
        "id": "view-in-github",
        "colab_type": "text"
      },
      "source": [
        "<a href=\"https://colab.research.google.com/github/ljw-0108/machine-learning-practice/blob/main/%EC%B2%AB%EB%B2%88%EC%A7%B8_%EC%BD%94%EB%9E%A9.ipynb\" target=\"_parent\"><img src=\"https://colab.research.google.com/assets/colab-badge.svg\" alt=\"Open In Colab\"/></a>"
      ]
    },
    {
      "cell_type": "code",
      "execution_count": null,
      "metadata": {
        "colab": {
          "base_uri": "https://localhost:8080/"
        },
        "id": "lY6mMMY1KZt5",
        "outputId": "9b3f860f-2102-49f6-8b26-16147ff669d3"
      },
      "outputs": [
        {
          "output_type": "stream",
          "name": "stdout",
          "text": [
            "Drive already mounted at /content/drive; to attempt to forcibly remount, call drive.mount(\"/content/drive\", force_remount=True).\n"
          ]
        }
      ],
      "source": [
        "from google.colab import drive\n",
        "drive.mount('/content/drive')"
      ]
    },
    {
      "cell_type": "code",
      "source": [
        "!cd drive/MyDrive/"
      ],
      "metadata": {
        "id": "RNaEhz4RK906"
      },
      "execution_count": null,
      "outputs": []
    }
  ]
}